{
  "nbformat": 4,
  "nbformat_minor": 0,
  "metadata": {
    "colab": {
      "name": "script.ipynb",
      "provenance": [],
      "authorship_tag": "ABX9TyN0sc9smGvK3kcIsv9tlmOt"
    },
    "kernelspec": {
      "name": "python3",
      "display_name": "Python 3"
    }
  },
  "cells": [
    {
      "cell_type": "code",
      "metadata": {
        "id": "D3U5oLIb4hoY"
      },
      "source": [
        "try:\n",
        "  import pandas as pd # using it for data manipulating!\n",
        "  import numpy as np # using it for the detecting dimintions!\n",
        "  import matplotlib.pyplot as plt # using it to display the images!\n",
        "  import cv2 # using it to detect face, eyes etc.!\n",
        "  %matplotlib inline\n",
        "\n",
        "except Exception as e:\n",
        "  print('Packages are Missing! \\n {}'.format(e))"
      ],
      "execution_count": 2,
      "outputs": []
    },
    {
      "cell_type": "code",
      "metadata": {
        "id": "xWInW3vL5RmW"
      },
      "source": [
        ""
      ],
      "execution_count": null,
      "outputs": []
    },
    {
      "cell_type": "code",
      "metadata": {
        "id": "um48PQDD5x6o"
      },
      "source": [
        ""
      ],
      "execution_count": null,
      "outputs": []
    }
  ]
}